{
 "cells": [
  {
   "cell_type": "markdown",
   "metadata": {},
   "source": [
    "# **Face Detection with dlib (`HOG + SVM` and `CNN`)**\n"
   ]
  },
  {
   "cell_type": "markdown",
   "metadata": {},
   "source": [
    "This notebook demonstrates how to perform face detection using `dlib` with two different methods:\n",
    "\n",
    "1. **HOG (Histogram of Oriented Gradients) + SVM (Support Vector Machine)**\n",
    "2. **CNN (Convolutional Neural Network)**\n",
    "\n",
    "---\n"
   ]
  },
  {
   "cell_type": "markdown",
   "metadata": {},
   "source": [
    "## **1. Face Detection Using `HOG + SVM`**\n"
   ]
  },
  {
   "cell_type": "code",
   "execution_count": 2,
   "metadata": {},
   "outputs": [
    {
     "name": "stdout",
     "output_type": "stream",
     "text": [
      "Number of faces detected (HOG + SVM): 24\n"
     ]
    }
   ],
   "source": [
    "import cv2\n",
    "import dlib\n",
    "\n",
    "# Load the pre-trained HOG + SVM face detector\n",
    "detector = dlib.get_frontal_face_detector()\n",
    "\n",
    "# Load and preprocess the image\n",
    "image = cv2.imread(\"../images/faces.jpg\")\n",
    "gray = cv2.cvtColor(image, cv2.COLOR_BGR2GRAY)\n",
    "\n",
    "# Detect faces\n",
    "faces = detector(gray)\n",
    "print(f\"Number of faces detected (HOG + SVM): {len(faces)}\")\n",
    "\n",
    "# Draw Bounding Boxes Around Detected Faces\n",
    "for face in faces:\n",
    "    x1, y1 = face.left(), face.top()\n",
    "    x2, y2 = face.right(), face.bottom()\n",
    "    cv2.rectangle(image, (x1, y1), (x2, y2), (0, 255, 0), 3)\n",
    "\n",
    "# Display the result\n",
    "cv2.imshow(\"Detected Faces (HOG + SVM)\", image)\n",
    "cv2.waitKey(0)\n",
    "cv2.destroyAllWindows()"
   ]
  },
  {
   "cell_type": "markdown",
   "metadata": {},
   "source": [
    "---\n"
   ]
  },
  {
   "cell_type": "markdown",
   "metadata": {},
   "source": [
    "## **2. Face Detection Using `CNN`**\n"
   ]
  },
  {
   "cell_type": "markdown",
   "metadata": {},
   "source": [
    "For higher accuracy, use `dlib`'s CNN-based face detector. This requires loading a pre-trained model file (`mmod_human_face_detector.dat`).\n",
    "\n",
    "[Download CNN Model](http://dlib.net/files/mmod_human_face_detector.dat.bz2)\n"
   ]
  },
  {
   "cell_type": "code",
   "execution_count": 3,
   "metadata": {},
   "outputs": [
    {
     "name": "stdout",
     "output_type": "stream",
     "text": [
      "Number of faces detected (CNN): 24\n"
     ]
    }
   ],
   "source": [
    "import cv2\n",
    "import dlib\n",
    "\n",
    "# Load the CNN-based face detector\n",
    "cnn_detector = dlib.cnn_face_detection_model_v1(\n",
    "    \"../models/mmod_human_face_detector.dat\"\n",
    ")\n",
    "\n",
    "\n",
    "# Load and preprocess the image\n",
    "image = cv2.imread(\"../images/faces.jpg\")\n",
    "gray = cv2.cvtColor(image, cv2.COLOR_BGR2GRAY)\n",
    "\n",
    "\n",
    "# Detect faces using CNN\n",
    "faces = cnn_detector(gray)\n",
    "print(f\"Number of faces detected (CNN): {len(faces)}\")\n",
    "\n",
    "# Draw Bounding Boxes Around Detected Faces\n",
    "for face in faces:\n",
    "    rect = face.rect\n",
    "    x1, y1 = rect.left(), rect.top()\n",
    "    x2, y2 = rect.right(), rect.bottom()\n",
    "    cv2.rectangle(image, (x1, y1), (x2, y2), (0, 255, 0), 3)\n",
    "\n",
    "# Display the result\n",
    "cv2.imshow(\"Detected Faces (CNN)\", image)\n",
    "cv2.waitKey(0)\n",
    "cv2.destroyAllWindows()"
   ]
  },
  {
   "cell_type": "markdown",
   "metadata": {},
   "source": [
    "---\n"
   ]
  },
  {
   "cell_type": "markdown",
   "metadata": {},
   "source": [
    "## **Comparison: `HOG + SVM` vs. `CNN`**\n",
    "\n",
    "| Method        | Speed  | Accuracy | Best for             |\n",
    "| ------------- | ------ | -------- | -------------------- |\n",
    "| **HOG + SVM** | Faster | Lower    | Real-time detection  |\n",
    "| **CNN**       | Slower | Higher   | High-precision tasks |\n"
   ]
  },
  {
   "cell_type": "markdown",
   "metadata": {},
   "source": [
    "---\n"
   ]
  }
 ],
 "metadata": {
  "kernelspec": {
   "display_name": "Python 3",
   "language": "python",
   "name": "python3"
  },
  "language_info": {
   "codemirror_mode": {
    "name": "ipython",
    "version": 3
   },
   "file_extension": ".py",
   "mimetype": "text/x-python",
   "name": "python",
   "nbconvert_exporter": "python",
   "pygments_lexer": "ipython3",
   "version": "3.12.4"
  }
 },
 "nbformat": 4,
 "nbformat_minor": 2
}
